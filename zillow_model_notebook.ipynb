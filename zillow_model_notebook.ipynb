{
 "cells": [
  {
   "cell_type": "code",
   "execution_count": 1,
   "id": "3ec2ab91",
   "metadata": {},
   "outputs": [],
   "source": [
    "#imports\n",
    "import pandas as pd\n",
    "import numpy as np\n",
    "import matplotlib.pyplot as plt\n",
    "import warnings\n",
    "import seaborn as sns\n",
    "from sklearn.model_selection import train_test_split\n",
    "from scipy import stats\n",
    "\n",
    "#functions\n",
    "import wrangle as wr\n",
    "import explore as exp\n",
    "\n",
    "\n",
    "\n",
    "warnings.filterwarnings(\"ignore\")\n",
    "\n",
    "#evaluate\n",
    "from sklearn.metrics import mean_squared_error, r2_score, explained_variance_score\n",
    "from sklearn.feature_selection import f_regression \n",
    "from statsmodels.formula.api import ols\n",
    "import sklearn.preprocessing\n",
    "\n",
    "#feature engineering\n",
    "from sklearn.feature_selection import SelectKBest, f_regression\n",
    "from sklearn.linear_model import LinearRegression\n",
    "from sklearn.feature_selection import RFE\n",
    "from sklearn.model_selection import train_test_split\n",
    "from sklearn.preprocessing import MinMaxScaler\n",
    "\n",
    "# modeling methods\n",
    "from sklearn.metrics import mean_squared_error\n",
    "from sklearn.linear_model import LinearRegression, LassoLars, TweedieRegressor\n",
    "from sklearn.preprocessing import PolynomialFeatures"
   ]
  },
  {
   "cell_type": "markdown",
   "id": "4d079e3d",
   "metadata": {},
   "source": [
    "Acquire Data\n",
    "Read zillow data from MySQL using the get_new_zillow_data() function in wrangle.py\n",
    "optimize data types, clean, handle outliers\n"
   ]
  },
  {
   "cell_type": "code",
   "execution_count": 2,
   "id": "4170faaa",
   "metadata": {},
   "outputs": [],
   "source": [
    "df = wr.wrangle_zillow()"
   ]
  },
  {
   "cell_type": "code",
   "execution_count": 3,
   "id": "b3c9c8e4",
   "metadata": {},
   "outputs": [
    {
     "data": {
      "text/html": [
       "<div>\n",
       "<style scoped>\n",
       "    .dataframe tbody tr th:only-of-type {\n",
       "        vertical-align: middle;\n",
       "    }\n",
       "\n",
       "    .dataframe tbody tr th {\n",
       "        vertical-align: top;\n",
       "    }\n",
       "\n",
       "    .dataframe thead th {\n",
       "        text-align: right;\n",
       "    }\n",
       "</style>\n",
       "<table border=\"1\" class=\"dataframe\">\n",
       "  <thead>\n",
       "    <tr style=\"text-align: right;\">\n",
       "      <th></th>\n",
       "      <th>bedrooms</th>\n",
       "      <th>bathrooms</th>\n",
       "      <th>sqft</th>\n",
       "      <th>home_value</th>\n",
       "      <th>yearbuilt</th>\n",
       "      <th>taxamount</th>\n",
       "      <th>fips</th>\n",
       "      <th>cost_per_sqft</th>\n",
       "      <th>sqft_room_ratio</th>\n",
       "      <th>6037.0</th>\n",
       "      <th>6059.0</th>\n",
       "      <th>6111.0</th>\n",
       "    </tr>\n",
       "  </thead>\n",
       "  <tbody>\n",
       "    <tr>\n",
       "      <th>4</th>\n",
       "      <td>4</td>\n",
       "      <td>2.0</td>\n",
       "      <td>3633</td>\n",
       "      <td>296425</td>\n",
       "      <td>2005</td>\n",
       "      <td>6941.39</td>\n",
       "      <td>6037.0</td>\n",
       "      <td>81.59</td>\n",
       "      <td>605.50</td>\n",
       "      <td>1</td>\n",
       "      <td>0</td>\n",
       "      <td>0</td>\n",
       "    </tr>\n",
       "    <tr>\n",
       "      <th>6</th>\n",
       "      <td>3</td>\n",
       "      <td>4.0</td>\n",
       "      <td>1620</td>\n",
       "      <td>847770</td>\n",
       "      <td>2011</td>\n",
       "      <td>10244.94</td>\n",
       "      <td>6037.0</td>\n",
       "      <td>523.31</td>\n",
       "      <td>231.43</td>\n",
       "      <td>1</td>\n",
       "      <td>0</td>\n",
       "      <td>0</td>\n",
       "    </tr>\n",
       "    <tr>\n",
       "      <th>7</th>\n",
       "      <td>3</td>\n",
       "      <td>2.0</td>\n",
       "      <td>2077</td>\n",
       "      <td>646760</td>\n",
       "      <td>1926</td>\n",
       "      <td>7924.68</td>\n",
       "      <td>6037.0</td>\n",
       "      <td>311.39</td>\n",
       "      <td>415.40</td>\n",
       "      <td>1</td>\n",
       "      <td>0</td>\n",
       "      <td>0</td>\n",
       "    </tr>\n",
       "    <tr>\n",
       "      <th>18</th>\n",
       "      <td>3</td>\n",
       "      <td>1.0</td>\n",
       "      <td>1244</td>\n",
       "      <td>169471</td>\n",
       "      <td>1950</td>\n",
       "      <td>2532.88</td>\n",
       "      <td>6037.0</td>\n",
       "      <td>136.23</td>\n",
       "      <td>311.00</td>\n",
       "      <td>1</td>\n",
       "      <td>0</td>\n",
       "      <td>0</td>\n",
       "    </tr>\n",
       "    <tr>\n",
       "      <th>19</th>\n",
       "      <td>3</td>\n",
       "      <td>2.0</td>\n",
       "      <td>1300</td>\n",
       "      <td>233266</td>\n",
       "      <td>1950</td>\n",
       "      <td>3110.99</td>\n",
       "      <td>6037.0</td>\n",
       "      <td>179.44</td>\n",
       "      <td>260.00</td>\n",
       "      <td>1</td>\n",
       "      <td>0</td>\n",
       "      <td>0</td>\n",
       "    </tr>\n",
       "  </tbody>\n",
       "</table>\n",
       "</div>"
      ],
      "text/plain": [
       "    bedrooms  bathrooms  sqft  home_value  yearbuilt  taxamount    fips  \\\n",
       "4          4        2.0  3633      296425       2005    6941.39  6037.0   \n",
       "6          3        4.0  1620      847770       2011   10244.94  6037.0   \n",
       "7          3        2.0  2077      646760       1926    7924.68  6037.0   \n",
       "18         3        1.0  1244      169471       1950    2532.88  6037.0   \n",
       "19         3        2.0  1300      233266       1950    3110.99  6037.0   \n",
       "\n",
       "    cost_per_sqft  sqft_room_ratio  6037.0  6059.0  6111.0  \n",
       "4           81.59           605.50       1       0       0  \n",
       "6          523.31           231.43       1       0       0  \n",
       "7          311.39           415.40       1       0       0  \n",
       "18         136.23           311.00       1       0       0  \n",
       "19         179.44           260.00       1       0       0  "
      ]
     },
     "execution_count": 3,
     "metadata": {},
     "output_type": "execute_result"
    }
   ],
   "source": [
    "df.head()"
   ]
  },
  {
   "cell_type": "code",
   "execution_count": 20,
   "id": "006b2476",
   "metadata": {},
   "outputs": [],
   "source": [
    "#Split wrangled, cleaned, and prepped data\n",
    "train, validate, test = wr.split(df, stratify_by=None)"
   ]
  },
  {
   "cell_type": "code",
   "execution_count": 21,
   "id": "a8fbde3a",
   "metadata": {},
   "outputs": [
    {
     "data": {
      "text/plain": [
       "((1153611, 12), (494406, 12), (412005, 12))"
      ]
     },
     "execution_count": 21,
     "metadata": {},
     "output_type": "execute_result"
    }
   ],
   "source": [
    "train.shape, validate.shape, test.shape"
   ]
  },
  {
   "cell_type": "code",
   "execution_count": 22,
   "id": "8cb20c2d",
   "metadata": {},
   "outputs": [],
   "source": [
    "train_scaled, validate_scaled, test_scaled = wr.scale_zillow(train, validate, test)"
   ]
  },
  {
   "cell_type": "code",
   "execution_count": 23,
   "id": "9c0edb32",
   "metadata": {},
   "outputs": [
    {
     "data": {
      "text/plain": [
       "((1153611, 12), (494406, 12), (412005, 12))"
      ]
     },
     "execution_count": 23,
     "metadata": {},
     "output_type": "execute_result"
    }
   ],
   "source": [
    "train_scaled.shape, validate_scaled.shape, test_scaled.shape"
   ]
  },
  {
   "cell_type": "markdown",
   "id": "d584073c",
   "metadata": {},
   "source": [
    "### separate target from features that will be used and scale"
   ]
  },
  {
   "cell_type": "code",
   "execution_count": 9,
   "id": "97fa7ae0",
   "metadata": {},
   "outputs": [],
   "source": [
    "X_train = train.drop(columns=['home_value','yearbuilt','taxamount','fips','yearbuilt','cost_per_sqft','6037.0','6059.0','6111.0'])\n",
    "X_validate = validate.drop(columns=['home_value','yearbuilt','taxamount','fips','yearbuilt','cost_per_sqft','6037.0','6059.0','6111.0'])\n",
    "X_test = test.drop(columns=['home_value','yearbuilt','taxamount','fips','yearbuilt','cost_per_sqft','6037.0','6059.0','6111.0'])\n",
    "y_train = train.home_value\n",
    "y_validate = validate.home_value\n",
    "y_test = test.home_value"
   ]
  },
  {
   "cell_type": "code",
   "execution_count": 10,
   "id": "1033dbc1",
   "metadata": {},
   "outputs": [
    {
     "data": {
      "text/html": [
       "<div>\n",
       "<style scoped>\n",
       "    .dataframe tbody tr th:only-of-type {\n",
       "        vertical-align: middle;\n",
       "    }\n",
       "\n",
       "    .dataframe tbody tr th {\n",
       "        vertical-align: top;\n",
       "    }\n",
       "\n",
       "    .dataframe thead th {\n",
       "        text-align: right;\n",
       "    }\n",
       "</style>\n",
       "<table border=\"1\" class=\"dataframe\">\n",
       "  <thead>\n",
       "    <tr style=\"text-align: right;\">\n",
       "      <th></th>\n",
       "      <th>bedrooms</th>\n",
       "      <th>bathrooms</th>\n",
       "      <th>sqft</th>\n",
       "      <th>sqft_room_ratio</th>\n",
       "    </tr>\n",
       "  </thead>\n",
       "  <tbody>\n",
       "    <tr>\n",
       "      <th>1088045</th>\n",
       "      <td>3</td>\n",
       "      <td>2.0</td>\n",
       "      <td>1068</td>\n",
       "      <td>213.60</td>\n",
       "    </tr>\n",
       "    <tr>\n",
       "      <th>1457900</th>\n",
       "      <td>3</td>\n",
       "      <td>2.0</td>\n",
       "      <td>1542</td>\n",
       "      <td>308.40</td>\n",
       "    </tr>\n",
       "    <tr>\n",
       "      <th>115397</th>\n",
       "      <td>3</td>\n",
       "      <td>2.5</td>\n",
       "      <td>2174</td>\n",
       "      <td>395.27</td>\n",
       "    </tr>\n",
       "    <tr>\n",
       "      <th>506301</th>\n",
       "      <td>3</td>\n",
       "      <td>2.0</td>\n",
       "      <td>1359</td>\n",
       "      <td>271.80</td>\n",
       "    </tr>\n",
       "    <tr>\n",
       "      <th>641634</th>\n",
       "      <td>3</td>\n",
       "      <td>2.0</td>\n",
       "      <td>1200</td>\n",
       "      <td>240.00</td>\n",
       "    </tr>\n",
       "    <tr>\n",
       "      <th>...</th>\n",
       "      <td>...</td>\n",
       "      <td>...</td>\n",
       "      <td>...</td>\n",
       "      <td>...</td>\n",
       "    </tr>\n",
       "    <tr>\n",
       "      <th>463215</th>\n",
       "      <td>4</td>\n",
       "      <td>3.0</td>\n",
       "      <td>2029</td>\n",
       "      <td>289.86</td>\n",
       "    </tr>\n",
       "    <tr>\n",
       "      <th>1793012</th>\n",
       "      <td>3</td>\n",
       "      <td>1.0</td>\n",
       "      <td>1083</td>\n",
       "      <td>270.75</td>\n",
       "    </tr>\n",
       "    <tr>\n",
       "      <th>136986</th>\n",
       "      <td>3</td>\n",
       "      <td>2.0</td>\n",
       "      <td>2463</td>\n",
       "      <td>492.60</td>\n",
       "    </tr>\n",
       "    <tr>\n",
       "      <th>988610</th>\n",
       "      <td>3</td>\n",
       "      <td>2.5</td>\n",
       "      <td>1750</td>\n",
       "      <td>318.18</td>\n",
       "    </tr>\n",
       "    <tr>\n",
       "      <th>2003352</th>\n",
       "      <td>3</td>\n",
       "      <td>1.0</td>\n",
       "      <td>1141</td>\n",
       "      <td>285.25</td>\n",
       "    </tr>\n",
       "  </tbody>\n",
       "</table>\n",
       "<p>1153611 rows × 4 columns</p>\n",
       "</div>"
      ],
      "text/plain": [
       "         bedrooms  bathrooms  sqft  sqft_room_ratio\n",
       "1088045         3        2.0  1068           213.60\n",
       "1457900         3        2.0  1542           308.40\n",
       "115397          3        2.5  2174           395.27\n",
       "506301          3        2.0  1359           271.80\n",
       "641634          3        2.0  1200           240.00\n",
       "...           ...        ...   ...              ...\n",
       "463215          4        3.0  2029           289.86\n",
       "1793012         3        1.0  1083           270.75\n",
       "136986          3        2.0  2463           492.60\n",
       "988610          3        2.5  1750           318.18\n",
       "2003352         3        1.0  1141           285.25\n",
       "\n",
       "[1153611 rows x 4 columns]"
      ]
     },
     "execution_count": 10,
     "metadata": {},
     "output_type": "execute_result"
    }
   ],
   "source": [
    "X_train"
   ]
  },
  {
   "cell_type": "code",
   "execution_count": 11,
   "id": "06d3e238",
   "metadata": {},
   "outputs": [],
   "source": [
    "#Assign the scaler to a variable, and fit/transform the training data\n",
    "mms = sklearn.preprocessing.MinMaxScaler()\n",
    "\n",
    "mms.fit(X_train)\n",
    "\n",
    "train_mms = mms.transform(X_train)"
   ]
  },
  {
   "cell_type": "code",
   "execution_count": 12,
   "id": "a7d8055d",
   "metadata": {},
   "outputs": [],
   "source": [
    "#scaled back into df\n",
    "X_train_scaled = pd.DataFrame(train_mms, columns=list(X_train.columns))"
   ]
  },
  {
   "cell_type": "code",
   "execution_count": 13,
   "id": "e4f848ea",
   "metadata": {},
   "outputs": [],
   "source": [
    "#Assign the scaler to a variable, and fit/transform the training data\n",
    "mms = sklearn.preprocessing.MinMaxScaler()\n",
    "\n",
    "mms.fit(X_validate)\n",
    "\n",
    "validate_mms = mms.transform(X_validate)"
   ]
  },
  {
   "cell_type": "code",
   "execution_count": 14,
   "id": "c11f8263",
   "metadata": {},
   "outputs": [],
   "source": [
    "#scaled back into df\n",
    "X_validate_scaled = pd.DataFrame(validate_mms, columns=list(X_validate.columns))"
   ]
  },
  {
   "cell_type": "code",
   "execution_count": 15,
   "id": "d2ba5908",
   "metadata": {},
   "outputs": [],
   "source": [
    "#Assign the scaler to a variable, and fit/transform the training data\n",
    "mms = sklearn.preprocessing.MinMaxScaler()\n",
    "\n",
    "mms.fit(X_test)\n",
    "\n",
    "test_mms = mms.transform(X_test)"
   ]
  },
  {
   "cell_type": "code",
   "execution_count": 16,
   "id": "075e37b0",
   "metadata": {},
   "outputs": [],
   "source": [
    "#scaled back into df\n",
    "X_test_scaled = pd.DataFrame(test_mms, columns=list(X_test.columns))"
   ]
  },
  {
   "cell_type": "code",
   "execution_count": 17,
   "id": "f2ef5ab2",
   "metadata": {},
   "outputs": [
    {
     "data": {
      "text/html": [
       "<div>\n",
       "<style scoped>\n",
       "    .dataframe tbody tr th:only-of-type {\n",
       "        vertical-align: middle;\n",
       "    }\n",
       "\n",
       "    .dataframe tbody tr th {\n",
       "        vertical-align: top;\n",
       "    }\n",
       "\n",
       "    .dataframe thead th {\n",
       "        text-align: right;\n",
       "    }\n",
       "</style>\n",
       "<table border=\"1\" class=\"dataframe\">\n",
       "  <thead>\n",
       "    <tr style=\"text-align: right;\">\n",
       "      <th></th>\n",
       "      <th>bedrooms</th>\n",
       "      <th>bathrooms</th>\n",
       "      <th>sqft</th>\n",
       "      <th>sqft_room_ratio</th>\n",
       "    </tr>\n",
       "  </thead>\n",
       "  <tbody>\n",
       "    <tr>\n",
       "      <th>0</th>\n",
       "      <td>0.6</td>\n",
       "      <td>0.363636</td>\n",
       "      <td>0.093689</td>\n",
       "      <td>0.043249</td>\n",
       "    </tr>\n",
       "    <tr>\n",
       "      <th>1</th>\n",
       "      <td>0.4</td>\n",
       "      <td>0.272727</td>\n",
       "      <td>0.083451</td>\n",
       "      <td>0.050089</td>\n",
       "    </tr>\n",
       "    <tr>\n",
       "      <th>2</th>\n",
       "      <td>0.4</td>\n",
       "      <td>0.272727</td>\n",
       "      <td>0.103927</td>\n",
       "      <td>0.062373</td>\n",
       "    </tr>\n",
       "    <tr>\n",
       "      <th>3</th>\n",
       "      <td>0.4</td>\n",
       "      <td>0.272727</td>\n",
       "      <td>0.067354</td>\n",
       "      <td>0.040431</td>\n",
       "    </tr>\n",
       "    <tr>\n",
       "      <th>4</th>\n",
       "      <td>0.4</td>\n",
       "      <td>0.090909</td>\n",
       "      <td>0.073079</td>\n",
       "      <td>0.054837</td>\n",
       "    </tr>\n",
       "    <tr>\n",
       "      <th>...</th>\n",
       "      <td>...</td>\n",
       "      <td>...</td>\n",
       "      <td>...</td>\n",
       "      <td>...</td>\n",
       "    </tr>\n",
       "    <tr>\n",
       "      <th>412000</th>\n",
       "      <td>0.6</td>\n",
       "      <td>0.363636</td>\n",
       "      <td>0.145215</td>\n",
       "      <td>0.067031</td>\n",
       "    </tr>\n",
       "    <tr>\n",
       "      <th>412001</th>\n",
       "      <td>0.2</td>\n",
       "      <td>0.090909</td>\n",
       "      <td>0.083047</td>\n",
       "      <td>0.083090</td>\n",
       "    </tr>\n",
       "    <tr>\n",
       "      <th>412002</th>\n",
       "      <td>0.6</td>\n",
       "      <td>0.272727</td>\n",
       "      <td>0.084529</td>\n",
       "      <td>0.042275</td>\n",
       "    </tr>\n",
       "    <tr>\n",
       "      <th>412003</th>\n",
       "      <td>0.2</td>\n",
       "      <td>0.090909</td>\n",
       "      <td>0.048427</td>\n",
       "      <td>0.048472</td>\n",
       "    </tr>\n",
       "    <tr>\n",
       "      <th>412004</th>\n",
       "      <td>0.4</td>\n",
       "      <td>0.454545</td>\n",
       "      <td>0.187984</td>\n",
       "      <td>0.094000</td>\n",
       "    </tr>\n",
       "  </tbody>\n",
       "</table>\n",
       "<p>412005 rows × 4 columns</p>\n",
       "</div>"
      ],
      "text/plain": [
       "        bedrooms  bathrooms      sqft  sqft_room_ratio\n",
       "0            0.6   0.363636  0.093689         0.043249\n",
       "1            0.4   0.272727  0.083451         0.050089\n",
       "2            0.4   0.272727  0.103927         0.062373\n",
       "3            0.4   0.272727  0.067354         0.040431\n",
       "4            0.4   0.090909  0.073079         0.054837\n",
       "...          ...        ...       ...              ...\n",
       "412000       0.6   0.363636  0.145215         0.067031\n",
       "412001       0.2   0.090909  0.083047         0.083090\n",
       "412002       0.6   0.272727  0.084529         0.042275\n",
       "412003       0.2   0.090909  0.048427         0.048472\n",
       "412004       0.4   0.454545  0.187984         0.094000\n",
       "\n",
       "[412005 rows x 4 columns]"
      ]
     },
     "execution_count": 17,
     "metadata": {},
     "output_type": "execute_result"
    }
   ],
   "source": [
    "X_test_scaled"
   ]
  },
  {
   "cell_type": "code",
   "execution_count": 18,
   "id": "f2260640",
   "metadata": {},
   "outputs": [],
   "source": [
    "# from sklearn.feature_selection import SelectKBest, f_regression\n",
    "\n",
    "# parameters: f_regression stats test, give me 3 features\n",
    "f_selector = SelectKBest(f_regression, k=4)\n",
    "\n",
    "# find the top 8 X's correlated with y\n",
    "f_selector.fit(X_train, y_train)\n",
    "\n",
    "# boolean mask of whether the column was selected or not. \n",
    "feature_mask = f_selector.get_support()\n",
    "\n",
    "# get list of top K features. \n",
    "f_feature = X_train.iloc[:,feature_mask].columns.tolist()"
   ]
  },
  {
   "cell_type": "code",
   "execution_count": 19,
   "id": "14783f5a",
   "metadata": {},
   "outputs": [
    {
     "data": {
      "text/plain": [
       "['bedrooms', 'bathrooms', 'sqft', 'sqft_room_ratio']"
      ]
     },
     "execution_count": 19,
     "metadata": {},
     "output_type": "execute_result"
    }
   ],
   "source": [
    "#best features\n",
    "f_feature"
   ]
  },
  {
   "cell_type": "code",
   "execution_count": 24,
   "id": "7eae48dd",
   "metadata": {},
   "outputs": [],
   "source": [
    "# initialize the ML algorithm\n",
    "lm = LinearRegression()\n",
    "\n",
    "# create the rfe object, indicating the ML object (lm) and the number of features I want to end up with. \n",
    "rfe = RFE(lm, n_features_to_select=4)\n",
    "\n",
    "# fit the data using RFE\n",
    "rfe.fit(X_train,y_train)  \n",
    "\n",
    "# get the mask of the columns selected\n",
    "feature_mask = rfe.support_\n",
    "\n",
    "# get list of the column names. \n",
    "rfe_feature = X_train.iloc[:,feature_mask].columns.tolist()"
   ]
  },
  {
   "cell_type": "code",
   "execution_count": 25,
   "id": "29006490",
   "metadata": {},
   "outputs": [
    {
     "data": {
      "text/plain": [
       "['bedrooms', 'bathrooms', 'sqft', 'sqft_room_ratio']"
      ]
     },
     "execution_count": 25,
     "metadata": {},
     "output_type": "execute_result"
    }
   ],
   "source": [
    "rfe_feature"
   ]
  },
  {
   "cell_type": "markdown",
   "id": "a5fe1b85",
   "metadata": {},
   "source": [
    "## Modeling"
   ]
  },
  {
   "cell_type": "code",
   "execution_count": 26,
   "id": "8da61769",
   "metadata": {},
   "outputs": [],
   "source": [
    "# We need y_train and y_validate to be dataframes to append the new columns with predicted values. \n",
    "y_train = pd.DataFrame(y_train)\n",
    "y_validate = pd.DataFrame(y_validate)"
   ]
  },
  {
   "cell_type": "code",
   "execution_count": 27,
   "id": "f1d312e3",
   "metadata": {},
   "outputs": [
    {
     "data": {
      "text/html": [
       "<div>\n",
       "<style scoped>\n",
       "    .dataframe tbody tr th:only-of-type {\n",
       "        vertical-align: middle;\n",
       "    }\n",
       "\n",
       "    .dataframe tbody tr th {\n",
       "        vertical-align: top;\n",
       "    }\n",
       "\n",
       "    .dataframe thead th {\n",
       "        text-align: right;\n",
       "    }\n",
       "</style>\n",
       "<table border=\"1\" class=\"dataframe\">\n",
       "  <thead>\n",
       "    <tr style=\"text-align: right;\">\n",
       "      <th></th>\n",
       "      <th>home_value</th>\n",
       "    </tr>\n",
       "  </thead>\n",
       "  <tbody>\n",
       "    <tr>\n",
       "      <th>1088045</th>\n",
       "      <td>47535</td>\n",
       "    </tr>\n",
       "    <tr>\n",
       "      <th>1457900</th>\n",
       "      <td>847768</td>\n",
       "    </tr>\n",
       "    <tr>\n",
       "      <th>115397</th>\n",
       "      <td>306182</td>\n",
       "    </tr>\n",
       "    <tr>\n",
       "      <th>506301</th>\n",
       "      <td>156270</td>\n",
       "    </tr>\n",
       "    <tr>\n",
       "      <th>641634</th>\n",
       "      <td>79986</td>\n",
       "    </tr>\n",
       "  </tbody>\n",
       "</table>\n",
       "</div>"
      ],
      "text/plain": [
       "         home_value\n",
       "1088045       47535\n",
       "1457900      847768\n",
       "115397       306182\n",
       "506301       156270\n",
       "641634        79986"
      ]
     },
     "execution_count": 27,
     "metadata": {},
     "output_type": "execute_result"
    }
   ],
   "source": [
    "#preview\n",
    "y_train.head()"
   ]
  },
  {
   "cell_type": "markdown",
   "id": "34296341",
   "metadata": {},
   "source": [
    "## Identify Baseline"
   ]
  },
  {
   "cell_type": "code",
   "execution_count": 28,
   "id": "b6001809",
   "metadata": {
    "scrolled": true
   },
   "outputs": [
    {
     "data": {
      "text/html": [
       "<div>\n",
       "<style scoped>\n",
       "    .dataframe tbody tr th:only-of-type {\n",
       "        vertical-align: middle;\n",
       "    }\n",
       "\n",
       "    .dataframe tbody tr th {\n",
       "        vertical-align: top;\n",
       "    }\n",
       "\n",
       "    .dataframe thead th {\n",
       "        text-align: right;\n",
       "    }\n",
       "</style>\n",
       "<table border=\"1\" class=\"dataframe\">\n",
       "  <thead>\n",
       "    <tr style=\"text-align: right;\">\n",
       "      <th></th>\n",
       "      <th>home_value</th>\n",
       "      <th>home_value_baseline_median</th>\n",
       "      <th>home_value_baseline_mean</th>\n",
       "    </tr>\n",
       "  </thead>\n",
       "  <tbody>\n",
       "    <tr>\n",
       "      <th>1088045</th>\n",
       "      <td>47535</td>\n",
       "      <td>318089.0</td>\n",
       "      <td>380196.833903</td>\n",
       "    </tr>\n",
       "    <tr>\n",
       "      <th>1457900</th>\n",
       "      <td>847768</td>\n",
       "      <td>318089.0</td>\n",
       "      <td>380196.833903</td>\n",
       "    </tr>\n",
       "    <tr>\n",
       "      <th>115397</th>\n",
       "      <td>306182</td>\n",
       "      <td>318089.0</td>\n",
       "      <td>380196.833903</td>\n",
       "    </tr>\n",
       "    <tr>\n",
       "      <th>506301</th>\n",
       "      <td>156270</td>\n",
       "      <td>318089.0</td>\n",
       "      <td>380196.833903</td>\n",
       "    </tr>\n",
       "    <tr>\n",
       "      <th>641634</th>\n",
       "      <td>79986</td>\n",
       "      <td>318089.0</td>\n",
       "      <td>380196.833903</td>\n",
       "    </tr>\n",
       "  </tbody>\n",
       "</table>\n",
       "</div>"
      ],
      "text/plain": [
       "         home_value  home_value_baseline_median  home_value_baseline_mean\n",
       "1088045       47535                    318089.0             380196.833903\n",
       "1457900      847768                    318089.0             380196.833903\n",
       "115397       306182                    318089.0             380196.833903\n",
       "506301       156270                    318089.0             380196.833903\n",
       "641634        79986                    318089.0             380196.833903"
      ]
     },
     "execution_count": 28,
     "metadata": {},
     "output_type": "execute_result"
    }
   ],
   "source": [
    "# 1. compute pred_median\n",
    "home_value_baseline_median = y_train['home_value'].median()\n",
    "y_train['home_value_baseline_median'] = home_value_baseline_median\n",
    "y_validate['home_value_baseline_median'] = home_value_baseline_median\n",
    "\n",
    "# 2. compute pred_mean\n",
    "home_value_baseline_mean = y_train['home_value'].mean()\n",
    "y_train['home_value_baseline_mean'] = home_value_baseline_mean\n",
    "y_validate['home_value_baseline_mean'] = home_value_baseline_mean\n",
    "\n",
    "#check to see which is better\n",
    "y_train.head()"
   ]
  },
  {
   "cell_type": "code",
   "execution_count": 30,
   "id": "5d1f0dfa",
   "metadata": {},
   "outputs": [],
   "source": [
    "def plot_residuals(target, yhat):\n",
    "    '''\n",
    "    plot_residuals will take in a target series and prediction series\n",
    "    and plot the residuals as a scatterplot.\n",
    "    '''\n",
    "    \n",
    "    residual = target - yhat\n",
    "    \n",
    "    plt.scatter(target, residual)\n",
    "    plt.axhline(y = 0, ls = ':')\n",
    "    plt.xlabel(\"target\")\n",
    "    plt.ylabel(\"residual\")\n",
    "    plt.title('Residual Plot')\n",
    "    plt.show"
   ]
  },
  {
   "cell_type": "code",
   "execution_count": 31,
   "id": "9d7e7a0b",
   "metadata": {},
   "outputs": [
    {
     "data": {
      "image/png": "[encoded data removed]",
      "text/plain": [
       "<Figure size 432x288 with 1 Axes>"
      ]
     },
     "metadata": {
      "needs_background": "light"
     },
     "output_type": "display_data"
    }
   ],
   "source": [
    "plot_residuals(y_train.home_value, y_train.home_value_baseline_median)"
   ]
  },
  {
   "cell_type": "code",
   "execution_count": 32,
   "id": "b49b5d69",
   "metadata": {},
   "outputs": [
    {
     "data": {
      "image/png": "[encoded data removed]",
      "text/plain": [
       "<Figure size 432x288 with 1 Axes>"
      ]
     },
     "metadata": {
      "needs_background": "light"
     },
     "output_type": "display_data"
    }
   ],
   "source": [
    "# plot to visualize actual vs predicted.\n",
    "#median value performs better\n",
    "\n",
    "plt.hist(y_train.home_value, color='mediumslateblue', alpha=.5, label=\"Actual Home Value\")\n",
    "plt.vlines(y_train.home_value_baseline_mean, 0, 3000, color='gold', alpha=.3, label=\"Mean-Pred Home Value\")\n",
    "plt.vlines(y_train.home_value_baseline_median, 0, 3000, color='black', alpha=.2, label=\"Median-Pred Home Value\")\n",
    "plt.xlabel(\"Home Value\")\n",
    "plt.ylabel(\"Number Homes\")\n",
    "plt.legend()\n",
    "plt.show()"
   ]
  },
  {
   "cell_type": "code",
   "execution_count": 33,
   "id": "b2da8b14",
   "metadata": {},
   "outputs": [
    {
     "name": "stdout",
     "output_type": "stream",
     "text": [
      "\n",
      "      BASELINE:\n",
      "      \n",
      "      RMSE using Median\n",
      "      Train/In-Sample: 279765.61\n",
      "      Validate/Out-of-Sample: 279423.34\n",
      "        \n"
     ]
    }
   ],
   "source": [
    "# 3. RMSE of hv_pred_median\n",
    "rmse_train = mean_squared_error(y_train.home_value, y_train.home_value_baseline_median) ** (0.5)\n",
    "rmse_validate = mean_squared_error(y_validate.home_value, y_validate.home_value_baseline_median) ** (0.5)\n",
    "\n",
    "print(f\"\"\"\n",
    "      BASELINE:\n",
    "      \n",
    "      RMSE using Median\n",
    "      Train/In-Sample: {round(rmse_train, 2)}\n",
    "      Validate/Out-of-Sample: {round(rmse_validate, 2)}\n",
    "        \"\"\")"
   ]
  },
  {
   "cell_type": "markdown",
   "id": "c7f5e050",
   "metadata": {},
   "source": [
    "### Train / Validate\n",
    "Modeling: LinearRegression (OLS)"
   ]
  },
  {
   "cell_type": "code",
   "execution_count": 34,
   "id": "cf46e06d",
   "metadata": {},
   "outputs": [
    {
     "name": "stdout",
     "output_type": "stream",
     "text": [
      "\n",
      "              BASELINE:\n",
      "              \n",
      "              RMSE using Median\n",
      "              Train/In-Sample: 279765.61\n",
      "              Validate/Out-of-Sample: 279423.34\n",
      "\n",
      "    RMSE for OLS using LinearRegression\n",
      "    \n",
      "    Training/In-Sample: 223506.14\n",
      "    Validation/Out-of-Sample: 223873.71\n",
      "\n"
     ]
    }
   ],
   "source": [
    "# create the model object\n",
    "lm = LinearRegression(normalize=True)\n",
    "\n",
    "# fit the model to our training data. We must specify the column in y_train, \n",
    "# since we have converted it to a dataframe from a series! \n",
    "lm.fit(X_train, y_train.home_value)\n",
    "\n",
    "# predict train\n",
    "y_train['home_value_pred_lm'] = lm.predict(X_train)\n",
    "\n",
    "# evaluate: rmse\n",
    "rmse_train_lm = mean_squared_error(y_train.home_value, y_train.home_value_pred_lm)**(0.5)\n",
    "\n",
    "# predict validate\n",
    "y_validate['home_value_pred_lm'] = lm.predict(X_validate)\n",
    "\n",
    "# evaluate: rmse\n",
    "rmse_validate_lm = mean_squared_error(y_validate.home_value, y_validate.home_value_pred_lm)**(0.5)\n",
    "\n",
    "print(f\"\"\"\n",
    "              BASELINE:\n",
    "              \n",
    "              RMSE using Median\n",
    "              Train/In-Sample: {round(rmse_train, 2)}\n",
    "              Validate/Out-of-Sample: {round(rmse_validate, 2)}\n",
    "\n",
    "    RMSE for OLS using LinearRegression\n",
    "    \n",
    "    Training/In-Sample: {round(rmse_train_lm, 2)}\n",
    "    Validation/Out-of-Sample: {round(rmse_validate_lm, 2)}\n",
    "\"\"\")"
   ]
  },
  {
   "cell_type": "markdown",
   "id": "b89f1f5f",
   "metadata": {},
   "source": [
    "### Modeling: LassoLars"
   ]
  },
  {
   "cell_type": "code",
   "execution_count": 35,
   "id": "e3af60eb",
   "metadata": {},
   "outputs": [
    {
     "name": "stdout",
     "output_type": "stream",
     "text": [
      "\n",
      "              BASELINE:\n",
      "              \n",
      "              RMSE using Median\n",
      "              Train/In-Sample: 279765.61\n",
      "              Validate/Out-of-Sample: 279423.34\n",
      "              \n",
      "                RMSE for OLS using LinearRegression\n",
      "                \n",
      "                Training/In-Sample: 223506.14\n",
      "                Validation/Out-of-Sample: 223873.71\n",
      "\n",
      "    RMSE for LassoLars\n",
      "    \n",
      "    Training/In-Sample: 223620.16\n",
      "    Validation/Out-of-Sample: 224003.92\n",
      "\n"
     ]
    }
   ],
   "source": [
    "# create the model object\n",
    "\n",
    "lars = LassoLars(alpha=1.0)\n",
    "\n",
    "# fit the model to our training data. We must specify the column in y_train, \n",
    "# since we have converted it to a dataframe from a series! \n",
    "lars.fit(X_train, y_train.home_value)\n",
    "\n",
    "# predict train\n",
    "y_train['home_value_pred_lars'] = lars.predict(X_train)\n",
    "\n",
    "# evaluate: rmse\n",
    "rmse_train_lars = mean_squared_error(y_train.home_value, y_train.home_value_pred_lars)**(0.5)\n",
    "\n",
    "# predict validate\n",
    "y_validate['home_value_pred_lars'] = lars.predict(X_validate)\n",
    "\n",
    "# evaluate: rmse\n",
    "rmse_validate_lars = mean_squared_error(y_validate.home_value, y_validate.home_value_pred_lars)**(0.5)\n",
    "\n",
    "print(f\"\"\"\n",
    "              BASELINE:\n",
    "              \n",
    "              RMSE using Median\n",
    "              Train/In-Sample: {round(rmse_train, 2)}\n",
    "              Validate/Out-of-Sample: {round(rmse_validate, 2)}\n",
    "              \n",
    "                RMSE for OLS using LinearRegression\n",
    "                \n",
    "                Training/In-Sample: {round(rmse_train_lm, 2)}\n",
    "                Validation/Out-of-Sample: {round(rmse_validate_lm, 2)}\n",
    "\n",
    "    RMSE for LassoLars\n",
    "    \n",
    "    Training/In-Sample: {round(rmse_train_lars, 2)}\n",
    "    Validation/Out-of-Sample: {round(rmse_validate_lars, 2)}\n",
    "\"\"\")"
   ]
  },
  {
   "cell_type": "markdown",
   "id": "a1da3204",
   "metadata": {},
   "source": [
    "### Modeling: TweedieRegressor (GLM)"
   ]
  },
  {
   "cell_type": "code",
   "execution_count": 36,
   "id": "99cf83c7",
   "metadata": {},
   "outputs": [
    {
     "name": "stdout",
     "output_type": "stream",
     "text": [
      "\n",
      "              BASELINE:\n",
      "              \n",
      "              RMSE using Median\n",
      "              Train/In-Sample: 279765.61\n",
      "              Validate/Out-of-Sample: 279423.34\n",
      "              \n",
      "                RMSE for OLS using LinearRegression\n",
      "                \n",
      "                Training/In-Sample: 223506.14\n",
      "                Validation/Out-of-Sample: 223873.71\n",
      "\n",
      "                RMSE for LassoLars\n",
      "                \n",
      "                Training/In-Sample: 223620.16\n",
      "                Validation/Out-of-Sample: 224003.92\n",
      "    \n",
      "    RMSE for TweedieRegressor (GLM)\n",
      "    power=1, alpha=0\n",
      "    \n",
      "    Training/In-Sample: 272784.56\n",
      "    Validation/Out-of-Sample: 272460.67\n",
      "\n"
     ]
    }
   ],
   "source": [
    "# create the model object\n",
    "glm = TweedieRegressor(power=1, alpha=0)\n",
    "\n",
    "# fit the model to our training data. We must specify the column in y_train, \n",
    "# since we have converted it to a dataframe from a series! \n",
    "glm.fit(X_train, y_train.home_value)\n",
    "\n",
    "# predict train\n",
    "y_train['home_value_pred_glm'] = glm.predict(X_train)\n",
    "\n",
    "# evaluate: rmse\n",
    "rmse_train_glm = mean_squared_error(y_train.home_value, y_train.home_value_pred_glm)**(0.5)\n",
    "\n",
    "# predict validate\n",
    "y_validate['home_value_pred_glm'] = glm.predict(X_validate)\n",
    "\n",
    "# evaluate: rmse\n",
    "rmse_validate_glm = mean_squared_error(y_validate.home_value, y_validate.home_value_pred_glm)**(0.5)\n",
    "\n",
    "print(f\"\"\"\n",
    "              BASELINE:\n",
    "              \n",
    "              RMSE using Median\n",
    "              Train/In-Sample: {round(rmse_train, 2)}\n",
    "              Validate/Out-of-Sample: {round(rmse_validate, 2)}\n",
    "              \n",
    "                RMSE for OLS using LinearRegression\n",
    "                \n",
    "                Training/In-Sample: {round(rmse_train_lm, 2)}\n",
    "                Validation/Out-of-Sample: {round(rmse_validate_lm, 2)}\n",
    "\n",
    "                RMSE for LassoLars\n",
    "                \n",
    "                Training/In-Sample: {round(rmse_train_lars, 2)}\n",
    "                Validation/Out-of-Sample: {round(rmse_validate_lars, 2)}\n",
    "    \n",
    "    RMSE for TweedieRegressor (GLM)\n",
    "    power=1, alpha=0\n",
    "    \n",
    "    Training/In-Sample: {round(rmse_train_glm, 2)}\n",
    "    Validation/Out-of-Sample: {round(rmse_validate_glm, 2)}\n",
    "\"\"\")"
   ]
  },
  {
   "cell_type": "markdown",
   "id": "346312e9",
   "metadata": {},
   "source": [
    "### Modeling: PolynomialFeatures"
   ]
  },
  {
   "cell_type": "code",
   "execution_count": 37,
   "id": "96c183f1",
   "metadata": {},
   "outputs": [],
   "source": [
    "# make the polynomial features to get a new set of features\n",
    "pf = PolynomialFeatures(degree=2)\n",
    "\n",
    "# fit and transform X_train_scaled\n",
    "X_train_degree2 = pf.fit_transform(X_train)\n",
    "\n",
    "# transform X_validate_scaled & X_test_scaled\n",
    "X_validate_degree2 = pf.transform(X_validate)\n",
    "X_test_degree2 = pf.transform(X_test)"
   ]
  },
  {
   "cell_type": "code",
   "execution_count": 38,
   "id": "985a806a",
   "metadata": {},
   "outputs": [
    {
     "name": "stdout",
     "output_type": "stream",
     "text": [
      "\n",
      "              BASELINE:\n",
      "              \n",
      "              RMSE using Median\n",
      "              Train/In-Sample: 279765.61\n",
      "              Validate/Out-of-Sample: 279423.34\n",
      "              \n",
      "                RMSE for OLS using LinearRegression\n",
      "                \n",
      "                Training/In-Sample: 223506.14\n",
      "                Validation/Out-of-Sample: 223873.71\n",
      "\n",
      "                RMSE for LassoLars\n",
      "                \n",
      "                Training/In-Sample: 223620.16\n",
      "                Validation/Out-of-Sample: 224003.92\n",
      "    \n",
      "                RMSE for TweedieRegressor (GLM)\n",
      "                power=1, alpha=0\n",
      "                \n",
      "                Training/In-Sample: 272784.56\n",
      "                Validation/Out-of-Sample: 272460.67\n",
      "                \n",
      "    \n",
      "    RMSE for Polynomial Regressor\n",
      "    degrees=2\n",
      "    \n",
      "    Training/In-Sample: 222686.78\n",
      "    Validation/Out-of-Sample: 223076.9\n",
      "\n"
     ]
    }
   ],
   "source": [
    "# create the model object\n",
    "lm2 = LinearRegression(normalize=True)\n",
    "\n",
    "# fit the model to our training data. We must specify the column in y_train, \n",
    "# since we have converted it to a dataframe from a series! \n",
    "lm2.fit(X_train_degree2, y_train.home_value)\n",
    "\n",
    "# predict train\n",
    "y_train['home_value_pred_lm2'] = lm2.predict(X_train_degree2)\n",
    "\n",
    "# evaluate: rmse\n",
    "rmse_train_lm2 = mean_squared_error(y_train.home_value, y_train.home_value_pred_lm2)**(0.5)\n",
    "\n",
    "# predict validate\n",
    "y_validate['home_value_pred_lm2'] = lm2.predict(X_validate_degree2)\n",
    "\n",
    "# evaluate: rmse\n",
    "rmse_validate_lm2 = mean_squared_error(y_validate.home_value, y_validate.home_value_pred_lm2)**(0.5)\n",
    "\n",
    "print(f\"\"\"\n",
    "              BASELINE:\n",
    "              \n",
    "              RMSE using Median\n",
    "              Train/In-Sample: {round(rmse_train, 2)}\n",
    "              Validate/Out-of-Sample: {round(rmse_validate, 2)}\n",
    "              \n",
    "                RMSE for OLS using LinearRegression\n",
    "                \n",
    "                Training/In-Sample: {round(rmse_train_lm, 2)}\n",
    "                Validation/Out-of-Sample: {round(rmse_validate_lm, 2)}\n",
    "\n",
    "                RMSE for LassoLars\n",
    "                \n",
    "                Training/In-Sample: {round(rmse_train_lars, 2)}\n",
    "                Validation/Out-of-Sample: {round(rmse_validate_lars, 2)}\n",
    "    \n",
    "                RMSE for TweedieRegressor (GLM)\n",
    "                power=1, alpha=0\n",
    "                \n",
    "                Training/In-Sample: {round(rmse_train_glm, 2)}\n",
    "                Validation/Out-of-Sample: {round(rmse_validate_glm, 2)}\n",
    "                \n",
    "    \n",
    "    RMSE for Polynomial Regressor\n",
    "    degrees=2\n",
    "    \n",
    "    Training/In-Sample: {round(rmse_train_lm2, 2)}\n",
    "    Validation/Out-of-Sample: {round(rmse_validate_lm2, 2)}\n",
    "\"\"\")"
   ]
  },
  {
   "cell_type": "code",
   "execution_count": 39,
   "id": "e9faa504",
   "metadata": {},
   "outputs": [],
   "source": [
    "# make the polynomial features to get a new set of features\n",
    "pf3 = PolynomialFeatures(degree=3)\n",
    "\n",
    "# fit and transform X_train_scaled\n",
    "X_train_degree3 = pf3.fit_transform(X_train)\n",
    "\n",
    "# transform X_validate_scaled & X_test_scaled\n",
    "X_validate_degree3 = pf3.transform(X_validate)\n",
    "X_test_degree3 = pf3.transform(X_test)"
   ]
  },
  {
   "cell_type": "code",
   "execution_count": 40,
   "id": "b86cc5d2",
   "metadata": {},
   "outputs": [
    {
     "name": "stdout",
     "output_type": "stream",
     "text": [
      "\n",
      "              BASELINE:\n",
      "              \n",
      "              RMSE using Median\n",
      "              Train/In-Sample: 279765.61\n",
      "              Validate/Out-of-Sample: 279423.34\n",
      "              \n",
      "                RMSE for OLS using LinearRegression\n",
      "                \n",
      "                Training/In-Sample: 223506.14\n",
      "                Validation/Out-of-Sample: 223873.71\n",
      "\n",
      "                RMSE for LassoLars\n",
      "                \n",
      "                Training/In-Sample: 223620.16\n",
      "                Validation/Out-of-Sample: 224003.92\n",
      "    \n",
      "                RMSE for TweedieRegressor (GLM)\n",
      "                power=1, alpha=0\n",
      "                \n",
      "                Training/In-Sample: 272784.56\n",
      "                Validation/Out-of-Sample: 272460.67\n",
      "                \n",
      "                RMSE for Polynomial Regressor\n",
      "                degrees=2\n",
      "                \n",
      "                Training/In-Sample: 222686.78\n",
      "                Validation/Out-of-Sample: 223076.9\n",
      "                \n",
      "    \n",
      "    RMSE for Polynomial Regressor\n",
      "    degrees=3\n",
      "    \n",
      "    Training/In-Sample: 222405.05\n",
      "    Validation/Out-of-Sample: 222811.0\n",
      "\n"
     ]
    }
   ],
   "source": [
    "# create the model object\n",
    "lm3 = LinearRegression(normalize=True)\n",
    "\n",
    "# fit the model to our training data. We must specify the column in y_train, \n",
    "# since we have converted it to a dataframe from a series! \n",
    "lm3.fit(X_train_degree3, y_train.home_value)\n",
    "\n",
    "# predict train\n",
    "y_train['home_value_pred_lm3'] = lm3.predict(X_train_degree3)\n",
    "\n",
    "# evaluate: rmse\n",
    "rmse_train_lm3 = mean_squared_error(y_train.home_value, y_train.home_value_pred_lm3)**(0.5)\n",
    "\n",
    "# predict validate\n",
    "y_validate['home_value_pred_lm3'] = lm3.predict(X_validate_degree3)\n",
    "\n",
    "# evaluate: rmse\n",
    "rmse_validate_lm3 = mean_squared_error(y_validate.home_value, y_validate.home_value_pred_lm3)**(0.5)\n",
    "\n",
    "print(f\"\"\"\n",
    "              BASELINE:\n",
    "              \n",
    "              RMSE using Median\n",
    "              Train/In-Sample: {round(rmse_train, 2)}\n",
    "              Validate/Out-of-Sample: {round(rmse_validate, 2)}\n",
    "              \n",
    "                RMSE for OLS using LinearRegression\n",
    "                \n",
    "                Training/In-Sample: {round(rmse_train_lm, 2)}\n",
    "                Validation/Out-of-Sample: {round(rmse_validate_lm, 2)}\n",
    "\n",
    "                RMSE for LassoLars\n",
    "                \n",
    "                Training/In-Sample: {round(rmse_train_lars, 2)}\n",
    "                Validation/Out-of-Sample: {round(rmse_validate_lars, 2)}\n",
    "    \n",
    "                RMSE for TweedieRegressor (GLM)\n",
    "                power=1, alpha=0\n",
    "                \n",
    "                Training/In-Sample: {round(rmse_train_glm, 2)}\n",
    "                Validation/Out-of-Sample: {round(rmse_validate_glm, 2)}\n",
    "                \n",
    "                RMSE for Polynomial Regressor\n",
    "                degrees=2\n",
    "                \n",
    "                Training/In-Sample: {round(rmse_train_lm2, 2)}\n",
    "                Validation/Out-of-Sample: {round(rmse_validate_lm2, 2)}\n",
    "                \n",
    "    \n",
    "    RMSE for Polynomial Regressor\n",
    "    degrees=3\n",
    "    \n",
    "    Training/In-Sample: {round(rmse_train_lm3, 2)}\n",
    "    Validation/Out-of-Sample: {round(rmse_validate_lm3, 2)}\n",
    "\"\"\")"
   ]
  },
  {
   "cell_type": "code",
   "execution_count": 41,
   "id": "3741ae32",
   "metadata": {},
   "outputs": [],
   "source": [
    "# make the polynomial features to get a new set of features\n",
    "pf4 = PolynomialFeatures(degree=4)\n",
    "\n",
    "# fit and transform X_train_scaled\n",
    "X_train_degree4 = pf4.fit_transform(X_train)\n",
    "\n",
    "# transform X_validate_scaled & X_test_scaled\n",
    "X_validate_degree4 = pf4.transform(X_validate)\n",
    "X_test_degree4 = pf4.transform(X_test)"
   ]
  },
  {
   "cell_type": "code",
   "execution_count": 42,
   "id": "218e58fd",
   "metadata": {},
   "outputs": [
    {
     "name": "stdout",
     "output_type": "stream",
     "text": [
      "\n",
      "              BASELINE:\n",
      "              \n",
      "              RMSE using Median\n",
      "              Train/In-Sample: 279765.61\n",
      "              Validate/Out-of-Sample: 279423.34\n",
      "              \n",
      "                RMSE for OLS using LinearRegression\n",
      "                \n",
      "                Training/In-Sample: 223506.14\n",
      "                Validation/Out-of-Sample: 223873.71\n",
      "\n",
      "                RMSE for LassoLars\n",
      "                \n",
      "                Training/In-Sample: 223620.16\n",
      "                Validation/Out-of-Sample: 224003.92\n",
      "    \n",
      "                RMSE for TweedieRegressor (GLM)\n",
      "                power=1, alpha=0\n",
      "                \n",
      "                Training/In-Sample: 272784.56\n",
      "                Validation/Out-of-Sample: 272460.67\n",
      "                \n",
      "                RMSE for Polynomial Regressor\n",
      "                degrees=2\n",
      "                \n",
      "                Training/In-Sample: 222686.78\n",
      "                Validation/Out-of-Sample: 223076.9\n",
      "                \n",
      "                RMSE for Polynomial Regressor\n",
      "                degrees=3\n",
      "                \n",
      "                Training/In-Sample: 222405.05\n",
      "                Validation/Out-of-Sample: 222811.0\n",
      "                \n",
      "    \n",
      "    RMSE for Polynomial Regressor\n",
      "    degrees=4\n",
      "    \n",
      "    Training/In-Sample: 222250.98\n",
      "    Validation/Out-of-Sample: 224145.97\n",
      "\n"
     ]
    }
   ],
   "source": [
    "# create the model object\n",
    "lm4 = LinearRegression(normalize=True)\n",
    "\n",
    "# fit the model to our training data. We must specify the column in y_train, \n",
    "# since we have converted it to a dataframe from a series! \n",
    "lm4.fit(X_train_degree4, y_train.home_value)\n",
    "\n",
    "# predict train\n",
    "y_train['home_value_pred_lm4'] = lm4.predict(X_train_degree4)\n",
    "\n",
    "# evaluate: rmse\n",
    "rmse_train_lm4 = mean_squared_error(y_train.home_value, y_train.home_value_pred_lm4)**(0.5)\n",
    "\n",
    "# predict validate\n",
    "y_validate['home_value_pred_lm4'] = lm4.predict(X_validate_degree4)\n",
    "\n",
    "# evaluate: rmse\n",
    "rmse_validate_lm4 = mean_squared_error(y_validate.home_value, y_validate.home_value_pred_lm4)**(0.5)\n",
    "\n",
    "print(f\"\"\"\n",
    "              BASELINE:\n",
    "              \n",
    "              RMSE using Median\n",
    "              Train/In-Sample: {round(rmse_train, 2)}\n",
    "              Validate/Out-of-Sample: {round(rmse_validate, 2)}\n",
    "              \n",
    "                RMSE for OLS using LinearRegression\n",
    "                \n",
    "                Training/In-Sample: {round(rmse_train_lm, 2)}\n",
    "                Validation/Out-of-Sample: {round(rmse_validate_lm, 2)}\n",
    "\n",
    "                RMSE for LassoLars\n",
    "                \n",
    "                Training/In-Sample: {round(rmse_train_lars, 2)}\n",
    "                Validation/Out-of-Sample: {round(rmse_validate_lars, 2)}\n",
    "    \n",
    "                RMSE for TweedieRegressor (GLM)\n",
    "                power=1, alpha=0\n",
    "                \n",
    "                Training/In-Sample: {round(rmse_train_glm, 2)}\n",
    "                Validation/Out-of-Sample: {round(rmse_validate_glm, 2)}\n",
    "                \n",
    "                RMSE for Polynomial Regressor\n",
    "                degrees=2\n",
    "                \n",
    "                Training/In-Sample: {round(rmse_train_lm2, 2)}\n",
    "                Validation/Out-of-Sample: {round(rmse_validate_lm2, 2)}\n",
    "                \n",
    "                RMSE for Polynomial Regressor\n",
    "                degrees=3\n",
    "                \n",
    "                Training/In-Sample: {round(rmse_train_lm3, 2)}\n",
    "                Validation/Out-of-Sample: {round(rmse_validate_lm3, 2)}\n",
    "                \n",
    "    \n",
    "    RMSE for Polynomial Regressor\n",
    "    degrees=4\n",
    "    \n",
    "    Training/In-Sample: {round(rmse_train_lm4, 2)}\n",
    "    Validation/Out-of-Sample: {round(rmse_validate_lm4, 2)}\n",
    "\"\"\")"
   ]
  },
  {
   "cell_type": "code",
   "execution_count": 43,
   "id": "33a38a57",
   "metadata": {},
   "outputs": [
    {
     "data": {
      "image/png": "[encoded data removed]",
      "text/plain": [
       "<Figure size 1152x720 with 1 Axes>"
      ]
     },
     "metadata": {
      "needs_background": "light"
     },
     "output_type": "display_data"
    }
   ],
   "source": [
    "# plot to visualize actual vs predicted. \n",
    "plt.figure(figsize=(16,10))\n",
    "plt.hist(y_validate.home_value, color='darkorchid', alpha=1, bins=50, label=\"Actual Home Values\")\n",
    "plt.hist(y_validate.home_value_pred_lm2, color='c', alpha=.7, bins=50, label=\"Model: RMSE for Polynomial Regressor degrees=2\", ec='black')\n",
    "#plt.hist(y_validate.home_value_pred_lm3, color='chartreuse', alpha=.2, bins=50, label=\"Model: RMSE for Polynomial Regressor degrees=3\")\n",
    "plt.hist(y_validate.home_value_pred_lars, color='m', alpha=.2, bins=50,label=\"Model: RMSE for LassoLars Regressor \")\n",
    "plt.hist(y_validate.home_value_pred_lm, color='gold', alpha=.2, bins=50,label=\"Model: LinearRegression\")\n",
    "#plt.hist(y_validate.home_value_pred_lars, color='red', alpha=.5, bins=50, label=\"Model: RMSE for Tweedie Regressor\")\n",
    "plt.xlim(0, 1500000)\n",
    "plt.xlabel(\"Home Value\")\n",
    "plt.ylabel(\"Number of Homes\")\n",
    "plt.title(\"Comparing the Distribution of Actual Home Values to Distributions of Predicted Home Values for the Top Models\")\n",
    "plt.legend()\n",
    "plt.show()"
   ]
  },
  {
   "cell_type": "markdown",
   "id": "b7bcdff7",
   "metadata": {},
   "source": [
    "### Test"
   ]
  },
  {
   "cell_type": "code",
   "execution_count": 44,
   "id": "fb8bd704",
   "metadata": {},
   "outputs": [
    {
     "name": "stdout",
     "output_type": "stream",
     "text": [
      "\n",
      "    RMSE for Polynomial Regressor degrees=2\n",
      "    \n",
      "    Test/Out-of-Sample Performance: 223197.75\n",
      "\n"
     ]
    }
   ],
   "source": [
    "y_test = pd.DataFrame(y_test)\n",
    "\n",
    "#predict on test\n",
    "y_test['home_value_pred_lm2'] = lm2.predict(X_test_degree2)\n",
    "\n",
    "# evaluate: rmse\n",
    "rmse_test = mean_squared_error(y_test.home_value, y_test.home_value_pred_lm2)**(0.5)\n",
    "\n",
    "print(f\"\"\"\n",
    "    RMSE for Polynomial Regressor degrees=2\n",
    "    \n",
    "    Test/Out-of-Sample Performance: {round(rmse_test, 2)}\n",
    "\"\"\")"
   ]
  },
  {
   "cell_type": "code",
   "execution_count": null,
   "id": "e29455e4",
   "metadata": {},
   "outputs": [],
   "source": []
  },
  {
   "cell_type": "code",
   "execution_count": null,
   "id": "3a4eb8f7",
   "metadata": {},
   "outputs": [],
   "source": []
  },
  {
   "cell_type": "code",
   "execution_count": null,
   "id": "8393e31c",
   "metadata": {},
   "outputs": [],
   "source": []
  },
  {
   "cell_type": "code",
   "execution_count": null,
   "id": "e76c2950",
   "metadata": {},
   "outputs": [],
   "source": []
  },
  {
   "cell_type": "code",
   "execution_count": null,
   "id": "ff94495c",
   "metadata": {},
   "outputs": [],
   "source": []
  },
  {
   "cell_type": "code",
   "execution_count": null,
   "id": "87d556c8",
   "metadata": {},
   "outputs": [],
   "source": []
  },
  {
   "cell_type": "code",
   "execution_count": null,
   "id": "8a543fb8",
   "metadata": {},
   "outputs": [],
   "source": []
  },
  {
   "cell_type": "code",
   "execution_count": null,
   "id": "dfa89881",
   "metadata": {},
   "outputs": [],
   "source": []
  },
  {
   "cell_type": "code",
   "execution_count": null,
   "id": "5f7d793e",
   "metadata": {},
   "outputs": [],
   "source": []
  },
  {
   "cell_type": "code",
   "execution_count": null,
   "id": "95b226e3",
   "metadata": {},
   "outputs": [],
   "source": []
  },
  {
   "cell_type": "code",
   "execution_count": null,
   "id": "1d989e21",
   "metadata": {},
   "outputs": [],
   "source": []
  },
  {
   "cell_type": "code",
   "execution_count": null,
   "id": "54f4b0a4",
   "metadata": {},
   "outputs": [],
   "source": []
  },
  {
   "cell_type": "code",
   "execution_count": null,
   "id": "bcc19297",
   "metadata": {},
   "outputs": [],
   "source": []
  },
  {
   "cell_type": "code",
   "execution_count": null,
   "id": "1cf27bb5",
   "metadata": {},
   "outputs": [],
   "source": []
  },
  {
   "cell_type": "code",
   "execution_count": null,
   "id": "f0efc71d",
   "metadata": {},
   "outputs": [],
   "source": []
  }
 ],
 "metadata": {
  "kernelspec": {
   "display_name": "Python 3 (ipykernel)",
   "language": "python",
   "name": "python3"
  },
  "language_info": {
   "codemirror_mode": {
    "name": "ipython",
    "version": 3
   },
   "file_extension": ".py",
   "mimetype": "text/x-python",
   "name": "python",
   "nbconvert_exporter": "python",
   "pygments_lexer": "ipython3",
   "version": "3.9.12"
  }
 },
 "nbformat": 4,
 "nbformat_minor": 5
}
